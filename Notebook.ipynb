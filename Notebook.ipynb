{
 "cells": [
  {
   "cell_type": "markdown",
   "metadata": {},
   "source": [
    "# Introduction to network analytics with Python\n",
    "### With applications in actuarial science"
   ]
  },
  {
   "cell_type": "markdown",
   "metadata": {},
   "source": [
    "## Basic Network Features"
   ]
  },
  {
   "cell_type": "markdown",
   "metadata": {},
   "source": [
    "### Random Network"
   ]
  },
  {
   "cell_type": "markdown",
   "metadata": {},
   "source": [
    "We start with generating a random Barabási-Albert network to show how to construct such random networks. Afterwards, we analyse its properties and calculate some network features. This allows us to illustrate the meaning of the *scale-free* property. \n",
    "\n",
    "In this part of the example, we will rely on the `igraph` library to generate the random network and calculate the metrics. The network itself will consist of 2000 nodes. The generator adds them one at a time. Additionally, we specify that each new node should have an edge to one other nodes. This end point for the new edge will be chosen randomly from the nodes already present, taking into account the degree of the other nodes (preferential attachment). "
   ]
  },
  {
   "cell_type": "code",
   "execution_count": 1,
   "metadata": {},
   "outputs": [],
   "source": [
    "import igraph as ig\n",
    "import numpy as np\n",
    "import matplotlib.pyplot as plt"
   ]
  },
  {
   "cell_type": "code",
   "execution_count": 9,
   "metadata": {},
   "outputs": [],
   "source": [
    "# Load the graph\n",
    "graph = ig.Graph()\n",
    "\n",
    "# Create the Barabasi-Albert network\n",
    "# The graph should contain 2000 nodes, with each new node connecting to one other\n",
    "ba_graph = graph.Barabasi(2000, m=1) "
   ]
  },
  {
   "cell_type": "markdown",
   "metadata": {},
   "source": [
    "The `igraph` package allows us to quickly and easily calculate a whole range of metrics for this network. In this example, we will stick to four of them, in line with the ones discussed in the slide:\n",
    "* **Degree**: number of connections for each node; \n",
    "* **Betweenness centrality**: relative number of shortest paths passing through this node;\n",
    "* **Closeness centrality**: the inverse of the average distance to the other nodes;\n",
    "* **PageRank**: importance of the node based on number of connections and importance neighbours."
   ]
  },
  {
   "cell_type": "code",
   "execution_count": 10,
   "metadata": {},
   "outputs": [],
   "source": [
    "degree = ba_graph.degree() #Degree\n",
    "betw = ba_graph.betweenness() #Betweenness\n",
    "cls = ba_graph.closeness() #Closeness\n",
    "pgrnk = ba_graph.pagerank() #PageRank"
   ]
  },
  {
   "cell_type": "markdown",
   "metadata": {},
   "source": [
    "First, we plot the degree distribution. The distribution of a Barabasi-Albert network exhibits the scale-free property. A visual test for this consists of plotting the density against the degree with both axes on a log-scale. The scale-free property is likely present when the plot resembles a straight line. \n",
    "\n",
    "This result is often present in real-world networks. It means that many nodes have only very few connection, while there are a limit number of nodes with a very high number of connections (called hubs)."
   ]
  },
  {
   "cell_type": "code",
   "execution_count": 11,
   "metadata": {},
   "outputs": [],
   "source": [
    "def Pk(degree, values):\n",
    "    num_nodes = len(values)\n",
    "    count_degree = values.count(degree)\n",
    "    density = count_degree/num_nodes\n",
    "    return density"
   ]
  },
  {
   "cell_type": "code",
   "execution_count": null,
   "metadata": {},
   "outputs": [],
   "source": [
    "list_degrees = range(min(degree), max(degree)+1)\n",
    "list_densities = []\n",
    "for i in list_degrees:\n",
    "    density = Pk(i, degree)\n",
    "    list_densities.append(density)\n",
    "\n",
    "plt.scatter(list_degrees, list_densities)\n",
    "plt.xlabel('Degree')\n",
    "plt.ylabel('Density')\n",
    "plt.title('Degree Distribution')\n",
    "plt.xscale('log')\n",
    "plt.yscale('log')"
   ]
  },
  {
   "cell_type": "markdown",
   "metadata": {},
   "source": [
    "### Health Care Provider Network"
   ]
  },
  {
   "cell_type": "markdown",
   "metadata": {},
   "source": [
    "## Representation Learning"
   ]
  },
  {
   "cell_type": "markdown",
   "metadata": {},
   "source": []
  }
 ],
 "metadata": {
  "kernelspec": {
   "display_name": "base",
   "language": "python",
   "name": "python3"
  },
  "language_info": {
   "codemirror_mode": {
    "name": "ipython",
    "version": 3
   },
   "file_extension": ".py",
   "mimetype": "text/x-python",
   "name": "python",
   "nbconvert_exporter": "python",
   "pygments_lexer": "ipython3",
   "version": "3.11.0"
  }
 },
 "nbformat": 4,
 "nbformat_minor": 2
}
